{
  "nbformat": 4,
  "nbformat_minor": 0,
  "metadata": {
    "colab": {
      "provenance": []
    },
    "kernelspec": {
      "name": "python3",
      "display_name": "Python 3"
    },
    "language_info": {
      "name": "python"
    }
  },
  "cells": [
    {
      "cell_type": "code",
      "execution_count": null,
      "metadata": {
        "id": "LufvO_nrKVEh"
      },
      "outputs": [],
      "source": []
    },
    {
      "cell_type": "code",
      "source": [
        "import pandas as pd\n",
        "import matplotlib.pyplot as plt\n",
        "import seaborn as sns\n",
        "import numpy as np"
      ],
      "metadata": {
        "id": "RTbgKcdC54kJ"
      },
      "execution_count": 1,
      "outputs": []
    },
    {
      "cell_type": "code",
      "source": [
        "from google.colab import drive\n",
        "drive.mount('/content/drive')"
      ],
      "metadata": {
        "colab": {
          "base_uri": "https://localhost:8080/"
        },
        "id": "bXNga2L6oGnt",
        "outputId": "d8759057-750e-4a91-a21c-a54368450882"
      },
      "execution_count": 2,
      "outputs": [
        {
          "output_type": "stream",
          "name": "stdout",
          "text": [
            "Mounted at /content/drive\n"
          ]
        }
      ]
    },
    {
      "cell_type": "code",
      "source": [
        "data = pd.read_csv('/content/drive/MyDrive/Аналитика портфолио/data_raw.csv')\n"
      ],
      "metadata": {
        "id": "WCL7Uxu77Ua1"
      },
      "execution_count": 3,
      "outputs": []
    },
    {
      "cell_type": "code",
      "source": [
        "# Преобразуем данные в формат сводной таблицы\n",
        "df_pivot = data.pivot_table(\n",
        "    index=['client_id', 'dt'],\n",
        "    columns='event_type',\n",
        "    aggfunc='size',\n",
        "    fill_value=0\n",
        ").reset_index()\n",
        "\n",
        "# Преобразуем в бинарный формат: если есть событие — 1, иначе 0\n",
        "df_pivot[['views', 'clicks', 'adds']] = (df_pivot[['views', 'clicks', 'adds']] > 0).astype(int)\n",
        "\n",
        "# Сортируем сначала по client_id, затем по dt\n",
        "df_pivot = df_pivot.sort_values(by=['client_id', 'dt']).reset_index(drop=True)\n",
        "\n",
        "# Выводим результат\n",
        "print(df_pivot.head())\n",
        "\n",
        "# Сохраняем обработанные данные\n",
        "df_pivot.to_csv(\"/content/drive/MyDrive/Аналитика портфолио/processed_data.csv\", index=False)\n"
      ],
      "metadata": {
        "colab": {
          "base_uri": "https://localhost:8080/"
        },
        "id": "bh7EVKQSR7ME",
        "outputId": "50279d9f-4696-4ae1-f9e6-3c54fb5b67e5"
      },
      "execution_count": 4,
      "outputs": [
        {
          "output_type": "stream",
          "name": "stdout",
          "text": [
            "event_type  client_id          dt  adds  clicks  views\n",
            "0                   1  2024-06-17     0       0      1\n",
            "1                   1  2024-06-19     0       0      1\n",
            "2                   3  2024-06-17     0       1      1\n",
            "3                   3  2024-06-18     0       1      1\n",
            "4                   3  2024-06-19     1       1      1\n"
          ]
        }
      ]
    },
    {
      "cell_type": "code",
      "source": [
        "\n",
        "# Загружаем обработанный файл\n",
        "df = pd.read_csv(\"/content/drive/MyDrive/Аналитика портфолио/processed_data.csv\")\n",
        "\n",
        "\n",
        "# 1. Выводим количество по каждому событию\n",
        "event_counts = df[[\"views\", \"clicks\", \"adds\"]].sum()\n",
        "print(event_counts)\n",
        "\n",
        "# 2. Строим график количества событий\n",
        "plt.figure(figsize=(8, 5))\n",
        "event_counts.plot(kind=\"bar\", color=[\"blue\", \"orange\", \"green\"])\n",
        "plt.title(\"Количество событий (views, clicks, adds)\")\n",
        "plt.xlabel(\"Тип события\")\n",
        "plt.ylabel(\"Количество\")\n",
        "plt.xticks(rotation=0)\n",
        "plt.grid(axis=\"y\", linestyle=\"--\", alpha=0.7)\n",
        "plt.show()\n",
        "\n",
        "# 3. Считаем ключевые метрики (CTR и CR)\n",
        "ctr = df[\"clicks\"].sum() / df[\"views\"].sum()\n",
        "cr = df[\"adds\"].sum() / df[\"clicks\"].sum()\n",
        "\n",
        "print(f\"CTR (конверсия в просмотр): {ctr:.2%}\")\n",
        "print(f\"CR (конверсия в добавление): {cr:.2%}\")\n",
        "\n",
        "\n",
        "\n",
        "\n",
        "\n"
      ],
      "metadata": {
        "colab": {
          "base_uri": "https://localhost:8080/",
          "height": 591
        },
        "id": "hz5V7n5qUOlM",
        "outputId": "dee4a69d-5db2-4e54-a484-317deef255b9"
      },
      "execution_count": 5,
      "outputs": [
        {
          "output_type": "stream",
          "name": "stdout",
          "text": [
            "views     8267094\n",
            "clicks     370039\n",
            "adds       148700\n",
            "dtype: int64\n"
          ]
        },
        {
          "output_type": "display_data",
          "data": {
            "text/plain": [
              "<Figure size 800x500 with 1 Axes>"
            ],
            "image/png": "[encoded data removed]"
          },
          "metadata": {}
        },
        {
          "output_type": "stream",
          "name": "stdout",
          "text": [
            "CTR (конверсия в просмотр): 4.48%\n",
            "CR (конверсия в добавление): 40.18%\n"
          ]
        }
      ]
    },
    {
      "cell_type": "code",
      "source": [
        "import numpy as np\n",
        "from scipy.stats import norm\n",
        "\n",
        "# Данные из анализа\n",
        "views = 8267094\n",
        "clicks = 370039\n",
        "adds = 148700\n",
        "\n",
        "# Конверсии\n",
        "ctr = clicks / views  # Конверсия в просмотр (CTR)\n",
        "cr = adds / clicks  # Конверсия в добавление (CR)\n",
        "\n",
        "# Дисперсии\n",
        "var_ctr = ctr * (1 - ctr)\n",
        "var_cr = cr * (1 - cr)\n",
        "\n",
        "# Размер выборки\n",
        "n = views  # Общее количество просмотров\n",
        "\n",
        "# Z-значения для 95% доверия и 80% мощности\n",
        "z_alpha = norm.ppf(1 - 0.05 / 2)  # 1.96\n",
        "z_beta = norm.ppf(1 - 0.2)  # 0.84\n",
        "\n",
        "# Расчет MDE\n",
        "mde_ctr = np.sqrt(2 * var_ctr / n) * (z_alpha + z_beta)\n",
        "mde_cr = np.sqrt(2 * var_cr / n) * (z_alpha + z_beta)\n",
        "\n",
        "# Вывод результатов (в процентах)\n",
        "\n",
        "print(f\"MDE_CTR : {mde_ctr:.2%}\")\n",
        "print(f\"MDE_CR: {mde_cr:.2%}\")\n"
      ],
      "metadata": {
        "colab": {
          "base_uri": "https://localhost:8080/"
        },
        "id": "BjCdcVCLNclX",
        "outputId": "58ba5c80-4182-4124-8b14-6be8ac787954"
      },
      "execution_count": 13,
      "outputs": [
        {
          "output_type": "stream",
          "name": "stdout",
          "text": [
            "MDE_CTR : 0.03%\n",
            "MDE_CR: 0.07%\n"
          ]
        }
      ]
    },
    {
      "cell_type": "code",
      "source": [
        "import numpy as np\n",
        "import pandas as pd\n",
        "from scipy.stats import norm\n",
        "\n",
        "# Заданные параметры\n",
        "alpha = 0.05  # Уровень значимости\n",
        "beta = 0.2    # Мощность теста 1 - beta = 80%\n",
        "\n",
        "# Z-значения\n",
        "Z_alpha = norm.ppf(1 - alpha / 2)\n",
        "Z_beta = norm.ppf(1 - beta)\n",
        "\n",
        "# Исходные данные\n",
        "CTR_mean = 4.48/100   # Средний CTR (0.02%)\n",
        "CR_mean = 40.18/100   # Средний CR (0.23%)\n",
        "\n",
        "# Приблизительное стандартное отклонение (по биномиальной формуле)\n",
        "CTR_std = np.sqrt(CTR_mean * (1 - CTR_mean))\n",
        "CR_std = np.sqrt(CR_mean * (1 - CR_mean))\n",
        "\n",
        "# Размеры выборок\n",
        "sample_sizes = np.arange(10000, 210000, 10000)\n",
        "\n",
        "# Расчет MDE\n",
        "mde_results = []\n",
        "for n in sample_sizes:\n",
        "    MDE_CTR = (Z_alpha + Z_beta) * CTR_std / np.sqrt(n)\n",
        "    MDE_CR = (Z_alpha + Z_beta) * CR_std / np.sqrt(n)\n",
        "    mde_results.append([n, MDE_CTR, MDE_CR])\n",
        "\n",
        "# Создаем DataFrame\n",
        "df_mde = pd.DataFrame(mde_results, columns=['Выборка', 'MDE_CTR', 'MDE_CR'])\n",
        "\n",
        "# Выводим таблицу\n",
        "print(df_mde)\n"
      ],
      "metadata": {
        "colab": {
          "base_uri": "https://localhost:8080/"
        },
        "id": "l0xYRjaZYTnZ",
        "outputId": "8f792a93-2576-40c3-f3e1-593f54e96f3e"
      },
      "execution_count": 16,
      "outputs": [
        {
          "output_type": "stream",
          "name": "stdout",
          "text": [
            "    Выборка   MDE_CTR    MDE_CR\n",
            "0     10000  0.005795  0.013735\n",
            "1     20000  0.004098  0.009712\n",
            "2     30000  0.003346  0.007930\n",
            "3     40000  0.002898  0.006868\n",
            "4     50000  0.002592  0.006143\n",
            "5     60000  0.002366  0.005607\n",
            "6     70000  0.002190  0.005191\n",
            "7     80000  0.002049  0.004856\n",
            "8     90000  0.001932  0.004578\n",
            "9    100000  0.001833  0.004343\n",
            "10   110000  0.001747  0.004141\n",
            "11   120000  0.001673  0.003965\n",
            "12   130000  0.001607  0.003809\n",
            "13   140000  0.001549  0.003671\n",
            "14   150000  0.001496  0.003546\n",
            "15   160000  0.001449  0.003434\n",
            "16   170000  0.001406  0.003331\n",
            "17   180000  0.001366  0.003237\n",
            "18   190000  0.001330  0.003151\n",
            "19   200000  0.001296  0.003071\n"
          ]
        }
      ]
    },
    {
      "cell_type": "code",
      "source": [
        "import pandas as pd\n",
        "import scipy.stats as stats\n",
        "\n",
        "def analyze_ab_test(file_path):\n",
        "    # Загружаем данные\n",
        "    res = pd.read_csv(file_path)\n",
        "\n",
        "    # Группируем по экспериментальной группе\n",
        "    summary = res.groupby(\"ab_group\").agg(\n",
        "        total_users=(\"client_id\", \"nunique\"),\n",
        "        total_views=(\"is_view_ads\", \"sum\"),\n",
        "        total_clicks=(\"cnt_view_ads\", \"sum\"),\n",
        "        total_adds=(\"cnt_adds_ads\", \"sum\"),\n",
        "        total_orders=(\"cnt_orders_ads\", \"sum\"),\n",
        "        total_revenue=(\"sum_orders_ads\", \"sum\")\n",
        "    ).reset_index()\n",
        "\n",
        "    # Рассчитываем метрики\n",
        "    summary[\"CTR\"] = summary[\"total_clicks\"] / summary[\"total_views\"]\n",
        "    summary[\"CR_Adds\"] = summary[\"total_adds\"] / summary[\"total_clicks\"]\n",
        "    summary[\"CR_Orders\"] = summary[\"total_orders\"] / summary[\"total_clicks\"]\n",
        "    summary[\"ARPU\"] = summary[\"total_revenue\"] / summary[\"total_users\"]\n",
        "    summary[\"ARPPU\"] = summary[\"total_revenue\"] / summary[\"total_orders\"]\n",
        "\n",
        "    # Разделяем тестовую и контрольную группу\n",
        "    control = res[res[\"ab_group\"] == \"control\"]\n",
        "    test = res[res[\"ab_group\"] == \"test\"]\n",
        "\n",
        "    # Статистические тесты\n",
        "    ctr_p_value = stats.ttest_ind(test[\"cnt_view_ads\"], control[\"cnt_view_ads\"], equal_var=False).pvalue\n",
        "    cr_p_value = stats.ttest_ind(test[\"cnt_adds_ads\"], control[\"cnt_adds_ads\"], equal_var=False).pvalue\n",
        "    revenue_p_value = stats.ttest_ind(test[\"sum_orders_ads\"], control[\"sum_orders_ads\"], equal_var=False).pvalue\n",
        "\n",
        "    significance_results = {\n",
        "        \"CTR p-value\": ctr_p_value,\n",
        "        \"CR_Adds p-value\": cr_p_value,\n",
        "        \"Revenue p-value\": revenue_p_value,\n",
        "        \"CTR Significant\": ctr_p_value < 0.05,\n",
        "        \"CR_Adds Significant\": cr_p_value < 0.05,\n",
        "        \"Revenue Significant\": revenue_p_value < 0.05\n",
        "    }\n",
        "\n",
        "    return summary, significance_results\n",
        "\n",
        "# Запуск анализа\n",
        "file_path = \"/content/drive/MyDrive/Аналитика портфолио/final_results_to_analyze.csv\"\n",
        "summary, significance_results = analyze_ab_test(file_path)\n",
        "\n",
        "# Вывод результатов\n",
        "print(\"Метрики по группам:\")\n",
        "print(summary)\n",
        "print(\"\\nРезультаты статистического теста:\")\n",
        "print(significance_results)"
      ],
      "metadata": {
        "colab": {
          "base_uri": "https://localhost:8080/"
        },
        "id": "38E2y1EHPlQe",
        "outputId": "9ec39524-710d-43c4-de7a-38d306a18431"
      },
      "execution_count": 19,
      "outputs": [
        {
          "output_type": "stream",
          "name": "stdout",
          "text": [
            "Метрики по группам:\n",
            "  ab_group  total_users  total_views  total_clicks  total_adds  total_orders  \\\n",
            "0  control       200786        25389         43469       15799          5579   \n",
            "1     test       200474        25852         43805       16337          5881   \n",
            "\n",
            "   total_revenue       CTR   CR_Adds  CR_Orders      ARPU       ARPPU  \n",
            "0        1589899  1.712119  0.363454   0.128344  7.918376  284.979208  \n",
            "1        1687895  1.694453  0.372948   0.134254  8.419521  287.008162  \n",
            "\n",
            "Результаты статистического теста:\n",
            "{'CTR p-value': 0.7079439461730692, 'CR_Adds p-value': 0.16736601313485483, 'Revenue p-value': 0.042774140139963536, 'CTR Significant': False, 'CR_Adds Significant': False, 'Revenue Significant': True}\n"
          ]
        }
      ]
    },
    {
      "cell_type": "code",
      "source": [
        "import pandas as pd\n",
        "\n",
        "def analyze_experiment_results(file_path):\n",
        "    # Загружаем данные\n",
        "    final_res = pd.read_csv(file_path)\n",
        "\n",
        "    # Основные метрики\n",
        "    total_users = final_res['client_id'].nunique()\n",
        "    total_views = final_res['cnt_view_ads'].sum()\n",
        "    total_clicks = final_res['is_view_ads'].sum()\n",
        "    total_adds = final_res['cnt_adds_ads'].sum()\n",
        "    total_orders = final_res['cnt_orders_ads'].sum()\n",
        "    total_revenue = final_res['sum_orders_ads'].sum()\n",
        "\n",
        "    # Метрики по конверсиям\n",
        "    ctr = total_clicks / total_views if total_views > 0 else 0  # Кликабельность секции рекламы\n",
        "    cr_adds = total_adds / total_clicks if total_clicks > 0 else 0  # Конверсия в добавление товаров\n",
        "    cr_adds_from_views = total_adds / total_views if total_views > 0 else 0  # Конверсия в добавление от просмотра\n",
        "    cr_orders = total_orders / total_clicks if total_clicks > 0 else 0  # Конверсия в заказ от захода в рекламу\n",
        "    cr_orders_from_views = total_orders / total_views if total_views > 0 else 0  # Конверсия в заказ от просмотра\n",
        "\n",
        "    # Выручка\n",
        "    arpu = total_revenue / total_users if total_users > 0 else 0  # Выручка на пользователя\n",
        "    arppu = total_revenue / total_orders if total_orders > 0 else 0  # Выручка на покупателя\n",
        "\n",
        "    # Дополнительные метрики\n",
        "    avg_order_value = total_revenue / total_orders if total_orders > 0 else 0  # Средний чек\n",
        "    avg_orders_per_user = total_orders / total_users if total_users > 0 else 0  # Среднее количество заказов на пользователя\n",
        "\n",
        "    results = {\n",
        "        'Total Users': total_users,\n",
        "        'Total Views': total_views,\n",
        "        'Total Clicks': total_clicks,\n",
        "        'Total Adds': total_adds,\n",
        "        'Total Orders': total_orders,\n",
        "        'Total Revenue': total_revenue,\n",
        "        'CTR': ctr,\n",
        "        'CR Adds': cr_adds,\n",
        "        'CR Adds from Views': cr_adds_from_views,\n",
        "        'CR Orders': cr_orders,\n",
        "        'CR Orders from Views': cr_orders_from_views,\n",
        "        'ARPU': arpu,\n",
        "        'ARPPU': arppu,\n",
        "        'Average Order Value': avg_order_value,\n",
        "        'Avg Orders per User': avg_orders_per_user\n",
        "    }\n",
        "\n",
        "    return results\n",
        "\n",
        "# Пример вызова функции\n",
        "file_path = '/content/drive/MyDrive/Аналитика портфолио/final_results_to_analyze.csv'\n",
        "results = analyze_experiment_results(file_path)\n",
        "print(results)"
      ],
      "metadata": {
        "colab": {
          "base_uri": "https://localhost:8080/"
        },
        "id": "3XULXpltM0LS",
        "outputId": "e93927c1-dae8-46b2-f167-adc88c5a57ad"
      },
      "execution_count": 18,
      "outputs": [
        {
          "output_type": "stream",
          "name": "stdout",
          "text": [
            "{'Total Users': 394867, 'Total Views': 87274, 'Total Clicks': 51241, 'Total Adds': 32136, 'Total Orders': 11460, 'Total Revenue': 3277794, 'CTR': 0.5871278960515159, 'CR Adds': 0.6271540368064635, 'CR Adds from Views': 0.36821963013039394, 'CR Orders': 0.22364903104935502, 'CR Orders from Views': 0.13131058505396798, 'ARPU': 8.301007681067295, 'ARPPU': 286.02041884816754, 'Average Order Value': 286.02041884816754, 'Avg Orders per User': 0.029022430337303447}\n"
          ]
        }
      ]
    },
    {
      "cell_type": "code",
      "source": [
        "import pandas as pd\n",
        "import numpy as np\n",
        "from scipy.stats import ttest_ind\n",
        "\n",
        "# Загружаем данные\n",
        "analyz = pd.read_csv(\"/content/drive/MyDrive/Аналитика портфолио/final_results_to_analyze.csv\")\n",
        "\n",
        "# Группируем данные по экспериментальным группам\n",
        "grouped = analyz.groupby(\"ab_group\").agg(\n",
        "    total_users=(\"client_id\", \"nunique\"),\n",
        "    total_views=(\"is_view_ads\", \"sum\"),\n",
        "    total_clicks=(\"cnt_view_ads\", \"sum\"),\n",
        "    total_adds=(\"cnt_adds_ads\", \"sum\"),\n",
        "    total_orders=(\"cnt_orders_ads\", \"sum\"),\n",
        "    total_revenue=(\"sum_orders_ads\", \"sum\"),\n",
        "    avg_order_value=(\"sum_orders_ads\", \"mean\"),\n",
        "    avg_orders_per_user=(\"cnt_orders_ads\", \"mean\"),\n",
        "    avg_cart_value=(\"sum_adds_ads\", \"mean\"),\n",
        "    avg_adds_per_user=(\"cnt_adds_ads\", \"mean\"),\n",
        ").reset_index()\n",
        "\n",
        "# Вычисляем дополнительные метрики\n",
        "grouped[\"CTR\"] = grouped[\"total_clicks\"] / grouped[\"total_views\"]\n",
        "grouped[\"CR_Adds\"] = grouped[\"total_adds\"] / grouped[\"total_clicks\"]\n",
        "grouped[\"CR_Orders\"] = grouped[\"total_orders\"] / grouped[\"total_clicks\"]\n",
        "grouped[\"ARPU\"] = grouped[\"total_revenue\"] / grouped[\"total_users\"]\n",
        "grouped[\"ARPPU\"] = grouped[\"total_revenue\"] / grouped[\"total_orders\"]\n",
        "\n",
        "print(\"Метрики по группам:\\n\", grouped)\n",
        "\n",
        "# Разделяем данные по группам\n",
        "control_group = analyz[analyz[\"ab_group\"] == \"control\"]\n",
        "test_group = analyz[analyz[\"ab_group\"] == \"test\"]\n",
        "\n",
        "# Статистические тесты\n",
        "metrics = [\"cnt_view_ads\", \"cnt_adds_ads\", \"cnt_orders_ads\", \"sum_orders_ads\"]\n",
        "p_values = {}\n",
        "\n",
        "for metric in metrics:\n",
        "    stat, p_val = ttest_ind(control_group[metric], test_group[metric], equal_var=False, nan_policy=\"omit\")\n",
        "    p_values[f\"{metric} p-value\"] = p_val\n",
        "\n",
        "# Вывод значимости различий\n",
        "significance = {key: (p_val < 0.05) for key, p_val in p_values.items()}\n",
        "\n",
        "print(\"\\nРезультаты статистического теста:\")\n",
        "print(p_values)\n",
        "print(\"Значимые различия:\", significance)\n"
      ],
      "metadata": {
        "colab": {
          "base_uri": "https://localhost:8080/"
        },
        "id": "OfJfNs0ySPvG",
        "outputId": "b2479bba-1ca0-437e-c4f7-309b1c470e04"
      },
      "execution_count": 21,
      "outputs": [
        {
          "output_type": "stream",
          "name": "stdout",
          "text": [
            "Метрики по группам:\n",
            "   ab_group  total_users  total_views  total_clicks  total_adds  total_orders  \\\n",
            "0  control       200786        25389         43469       15799          5579   \n",
            "1     test       200474        25852         43805       16337          5881   \n",
            "\n",
            "   total_revenue  avg_order_value  avg_orders_per_user  avg_cart_value  \\\n",
            "0        1589899         3.245632             0.011389        5.026804   \n",
            "1        1687895         3.433109             0.011962        5.138580   \n",
            "\n",
            "   avg_adds_per_user       CTR   CR_Adds  CR_Orders      ARPU       ARPPU  \n",
            "0           0.032252  1.712119  0.363454   0.128344  7.918376  284.979208  \n",
            "1           0.033229  1.694453  0.372948   0.134254  8.419521  287.008162  \n",
            "\n",
            "Результаты статистического теста:\n",
            "{'cnt_view_ads p-value': 0.7079439461730692, 'cnt_adds_ads p-value': 0.16736601313485483, 'cnt_orders_ads p-value': 0.04059213036963724, 'sum_orders_ads p-value': 0.042774140139963536}\n",
            "Значимые различия: {'cnt_view_ads p-value': False, 'cnt_adds_ads p-value': False, 'cnt_orders_ads p-value': True, 'sum_orders_ads p-value': True}\n"
          ]
        }
      ]
    }
  ]
}